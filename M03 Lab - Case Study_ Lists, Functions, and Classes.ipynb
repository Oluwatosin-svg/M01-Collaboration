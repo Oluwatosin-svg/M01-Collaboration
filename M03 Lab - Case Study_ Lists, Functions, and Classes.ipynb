{
 "cells": [
  {
   "cell_type": "code",
   "execution_count": 5,
   "id": "dbf1d5e1",
   "metadata": {},
   "outputs": [
    {
     "name": "stdout",
     "output_type": "stream",
     "text": [
      "Type of vehicle :car\n",
      "Enter the year :2022\n",
      "Enter the automaker :Toyota\n",
      "Enter the model :Corolla\n",
      "Enter the number of doors(2 or 4) :4\n",
      "solid or sun roof :sun roof\n",
      "\n",
      "Vehicle Type :car\n",
      "\n",
      "Year :2022\n",
      "\n",
      "Make :Toyota\n",
      "\n",
      "Model :Corolla\n",
      "\n",
      "Number of doors :4\n",
      "\n",
      "Type of roof :sun roof\n"
     ]
    }
   ],
   "source": [
    "#A super class called Vehicle, which contains an attribute for vehicle type,\n",
    "#such as car, truck, plane, boat, or a broomstick.\n",
    "class Vehicle:\n",
    "    def __init__(self,type): \n",
    "        self.type=type \n",
    "\n",
    "#A class called Automobile which will inherit the attributes from Vehicle \n",
    "#and also contain the following attributes:\n",
    "class Automobile(Vehicle):\n",
    "    def __init__(self,type,year,make,model,doors,roof):\n",
    "        super().__init__(type) #super function is called to invoke vehicle class constructor\n",
    "        self.year=year\n",
    "        self.make=make\n",
    "        self.model=model\n",
    "        self.doors=doors\n",
    "        self.roof=roof\n",
    "\n",
    "type_i=input(\"Type of vehicle :\")\n",
    "year_i=input(\"Enter the year :\")\n",
    "make_i=input(\"Enter the automaker :\")\n",
    "model_i=input(\"Enter the model :\")\n",
    "doors_i=input(\"Enter the number of doors(2 or 4) :\")\n",
    "roof_i=input(\"solid or sun roof :\")\n",
    "A=Automobile(type_i,year_i,make_i,model_i,doors_i,roof_i) #calling the constructor with alls values readed\n",
    "\n",
    "print(\"\\nVehicle Type :\"+A.type)\n",
    "print(\"\\nYear :\"+A.year)\n",
    "print(\"\\nMake :\"+A.make)\n",
    "print(\"\\nModel :\"+A.model)\n",
    "print(\"\\nNumber of doors :\"+A.doors)\n",
    "print(\"\\nType of roof :\"+A.roof)"
   ]
  },
  {
   "cell_type": "code",
   "execution_count": null,
   "id": "322e996b",
   "metadata": {},
   "outputs": [],
   "source": []
  }
 ],
 "metadata": {
  "kernelspec": {
   "display_name": "Python 3 (ipykernel)",
   "language": "python",
   "name": "python3"
  },
  "language_info": {
   "codemirror_mode": {
    "name": "ipython",
    "version": 3
   },
   "file_extension": ".py",
   "mimetype": "text/x-python",
   "name": "python",
   "nbconvert_exporter": "python",
   "pygments_lexer": "ipython3",
   "version": "3.9.7"
  }
 },
 "nbformat": 4,
 "nbformat_minor": 5
}
