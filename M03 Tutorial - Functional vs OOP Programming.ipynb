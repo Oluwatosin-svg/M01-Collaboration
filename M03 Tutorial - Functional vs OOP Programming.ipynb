{
 "cells": [
  {
   "cell_type": "code",
   "execution_count": 12,
   "id": "5b6d73c1",
   "metadata": {},
   "outputs": [
    {
     "name": "stdout",
     "output_type": "stream",
     "text": [
      "Simon is just walking around\n",
      "Sally is just walking around\n",
      "Emma is just walking around\n"
     ]
    }
   ],
   "source": [
    "class Pets():\n",
    "    animals = []\n",
    "    def __init__(self, animals):\n",
    "        self.animals = animals\n",
    "\n",
    "    def walk(self):\n",
    "        for animal in self.animals:\n",
    "            print(animal.walk())\n",
    "\n",
    "class Cat():\n",
    "    is_lazy = True\n",
    "\n",
    "    def __init__(self, name, age):\n",
    "        self.name = name\n",
    "        self.age = age\n",
    "\n",
    "    def walk(self):\n",
    "        return f'{self.name} is just walking around'\n",
    "\n",
    "class Simon(Cat):\n",
    "    def sing(self, sounds):\n",
    "        return f'{sounds}'\n",
    "\n",
    "class Sally(Cat):\n",
    "    def sing(self, sounds):\n",
    "        return f'{sounds}'\n",
    "\n",
    "#1 Add nother Cat\n",
    "class Emma(Cat):\n",
    "    def sing(self, sounds):\n",
    "        return f'{sounds}'\n",
    "\n",
    "#2 Create a list of all of the pets (create 3 cat instances from the above)\n",
    "my_cats = [Simon(\"Simon\", 1), \n",
    "            Sally(\"Sally\", 2), \n",
    "            Emma(\"Emma\", 3)]\n",
    "\n",
    "#3 Instantiate the Pet class with all your cats use variable my_pets\n",
    "my_pets = Pets(my_cats)\n",
    "#4 Output all of the cats walking using the my_pets instance\n",
    "my_pets.walk()\n"
   ]
  },
  {
   "cell_type": "code",
   "execution_count": 47,
   "id": "ff174b8e",
   "metadata": {},
   "outputs": [
    {
     "name": "stdout",
     "output_type": "stream",
     "text": [
      "[25, 16, 9]\n",
      "[(10, -1), (0, 2), (5, 2), (9, 9)]\n"
     ]
    }
   ],
   "source": [
    "my_List = [5,4,3]\n",
    "print(list(map(lambda num: num**2, my_List)))\n",
    "\n",
    "a = [(0, 2), (5, 2), (9, 9), (10, -1)]\n",
    "a.sort(key=lambda x: x[1])\n",
    "\n",
    "print(a)"
   ]
  },
  {
   "cell_type": "code",
   "execution_count": null,
   "id": "181aefb3",
   "metadata": {},
   "outputs": [],
   "source": []
  }
 ],
 "metadata": {
  "kernelspec": {
   "display_name": "Python 3 (ipykernel)",
   "language": "python",
   "name": "python3"
  },
  "language_info": {
   "codemirror_mode": {
    "name": "ipython",
    "version": 3
   },
   "file_extension": ".py",
   "mimetype": "text/x-python",
   "name": "python",
   "nbconvert_exporter": "python",
   "pygments_lexer": "ipython3",
   "version": "3.9.7"
  }
 },
 "nbformat": 4,
 "nbformat_minor": 5
}
