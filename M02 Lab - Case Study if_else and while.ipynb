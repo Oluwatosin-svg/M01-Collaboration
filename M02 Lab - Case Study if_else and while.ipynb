{
 "cells": [
  {
   "cell_type": "code",
   "execution_count": null,
   "id": "b0804a12",
   "metadata": {},
   "outputs": [
    {
     "name": "stdout",
     "output_type": "stream",
     "text": [
      "Enter your lastName (type 'ZZZ' to quit): k\n",
      "Enter your firstName: l\n",
      "Enter GPA: 3.2\n",
      "You've made the Honor roll!\n",
      "Enter your lastName (type 'ZZZ' to quit): j\n",
      "Enter your firstName: g\n",
      "Enter GPA: 3.0\n",
      "You've made the Honor roll!\n"
     ]
    }
   ],
   "source": [
    "#Oluwatosin Idowu\n",
    "#Dean's List\n",
    "#This app will ask for the student's name and accept their GPA and also test if \n",
    "#the student qualifies for either the Dean's List or the Honor Roll.\n",
    "\n",
    "while True:\n",
    "    \n",
    "    Student_lastName = input(\"Enter your lastName (type 'ZZZ' to quit): \")\n",
    "    \n",
    "    if Student_lastName == \"ZZZ\":\n",
    "        break\n",
    "        \n",
    "    Student_firstName = input(\"Enter your firstName: \")\n",
    "    \n",
    "    Student_GPA = float(input(\"Enter GPA: \"))    \n",
    "    \n",
    "    if Student_GPA >= 3.5:\n",
    "        print(\"Congratulations, you have made the Dean's List!\")\n",
    "        \n",
    "    elif Student_GPA >= 3.25:\n",
    "        print(\"Congratulations, you have made the Honor Roll!\")\n",
    "        \n",
    "    else:\n",
    "        print(\"You've made the Honor roll!\")\n",
    "    "
   ]
  },
  {
   "cell_type": "code",
   "execution_count": null,
   "id": "9e5e21ed",
   "metadata": {},
   "outputs": [],
   "source": []
  }
 ],
 "metadata": {
  "kernelspec": {
   "display_name": "Python 3 (ipykernel)",
   "language": "python",
   "name": "python3"
  },
  "language_info": {
   "codemirror_mode": {
    "name": "ipython",
    "version": 3
   },
   "file_extension": ".py",
   "mimetype": "text/x-python",
   "name": "python",
   "nbconvert_exporter": "python",
   "pygments_lexer": "ipython3",
   "version": "3.9.7"
  }
 },
 "nbformat": 4,
 "nbformat_minor": 5
}
