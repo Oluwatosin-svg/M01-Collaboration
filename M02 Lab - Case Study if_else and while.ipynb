{
 "cells": [
  {
   "cell_type": "code",
   "execution_count": 1,
   "id": "b0804a12",
   "metadata": {},
   "outputs": [
    {
     "name": "stdout",
     "output_type": "stream",
     "text": [
      "Enter your lastName (type 'ZZZ' to quit): Alex\n",
      "Enter your firstName: John\n",
      "Enter GPA: 3.5\n",
      "Congratulations, you have made the Dean's List!\n",
      "Enter your lastName (type 'ZZZ' to quit): Tolu\n",
      "Enter your firstName: Ojo\n",
      "Enter GPA: 3.25\n",
      "Congratulations, you have made the Honor Roll!\n",
      "Enter your lastName (type 'ZZZ' to quit): Olu\n",
      "Enter your firstName: Mya\n",
      "Enter GPA: 4\n",
      "Congratulations, you have made the Dean's List!\n",
      "Enter your lastName (type 'ZZZ' to quit): Vic\n",
      "Enter your firstName: Dee\n",
      "Enter GPA: 3.6\n",
      "Congratulations, you have made the Dean's List!\n",
      "Enter your lastName (type 'ZZZ' to quit): Cole\n",
      "Enter your firstName: Paul\n",
      "Enter GPA: 3.25\n",
      "Congratulations, you have made the Honor Roll!\n",
      "Enter your lastName (type 'ZZZ' to quit): ZZZ\n"
     ]
    }
   ],
   "source": [
    "#Oluwatosin Idowu\n",
    "#Dean's List\n",
    "#This app will ask for the student's name and accept their GPA and also test if \n",
    "#the student qualifies for either the Dean's List or the Honor Roll.\n",
    "\n",
    "while True:\n",
    "    \n",
    "    Student_lastName = input(\"Enter your lastName (type 'ZZZ' to quit): \")\n",
    "    \n",
    "    if Student_lastName == \"ZZZ\":\n",
    "        break\n",
    "        \n",
    "    Student_first_name = input(\"Enter your firstName: \")\n",
    "    \n",
    "    Student_GPA = float(input(\"Enter GPA: \"))    \n",
    "    \n",
    "    if Student_GPA >= 3.5:\n",
    "        print(\"Congratulations, you have made the Dean's List!\")\n",
    "        \n",
    "    elif Student_GPA >= 3.25:\n",
    "        print(\"Congratulations, you have made the Honor Roll!\")\n",
    "        \n",
    "    else:\n",
    "        print(lastName + ' ' + firstName, \"has made the Honor roll!\")\n",
    "    "
   ]
  },
  {
   "cell_type": "code",
   "execution_count": null,
   "id": "9e5e21ed",
   "metadata": {},
   "outputs": [],
   "source": []
  }
 ],
 "metadata": {
  "kernelspec": {
   "display_name": "Python 3 (ipykernel)",
   "language": "python",
   "name": "python3"
  },
  "language_info": {
   "codemirror_mode": {
    "name": "ipython",
    "version": 3
   },
   "file_extension": ".py",
   "mimetype": "text/x-python",
   "name": "python",
   "nbconvert_exporter": "python",
   "pygments_lexer": "ipython3",
   "version": "3.9.7"
  }
 },
 "nbformat": 4,
 "nbformat_minor": 5
}
