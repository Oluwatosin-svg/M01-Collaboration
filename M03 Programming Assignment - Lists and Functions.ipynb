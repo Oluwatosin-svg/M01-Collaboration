{
 "cells": [
  {
   "cell_type": "code",
   "execution_count": 9,
   "id": "6468e2b6",
   "metadata": {},
   "outputs": [
    {
     "data": {
      "text/plain": [
       "('mozzarella', 'cinderella', 'salmonella')"
      ]
     },
     "execution_count": 9,
     "metadata": {},
     "output_type": "execute_result"
    }
   ],
   "source": [
    "#7.4. Make a list called things with these three strings as elements: \n",
    "#\"mozzarella\", \"cinderella\", \"salmonella\".\n",
    "\n",
    "things = 'mozzarella', 'cinderella', 'salmonella'\n",
    "things"
   ]
  },
  {
   "cell_type": "code",
   "execution_count": 14,
   "id": "ac6eb54e",
   "metadata": {},
   "outputs": [
    {
     "name": "stdout",
     "output_type": "stream",
     "text": [
      "['MOZZARELLA', 'CINDERELLA', 'SALMONELLA']\n"
     ]
    }
   ],
   "source": [
    "#7.5. Capitalize the element in things that refers to a person and then print the list. \n",
    "#Did it change the element in the list?\n",
    "\n",
    "things = [\"mozzarella\", \"CINDERELLA\", \"salmonella\"]\n",
    "for i in range(len(things)):\n",
    "    things[i] = things[i].upper()\n",
    "print(things)\n",
    "\n",
    "#Yes, it does change the element in the list to all UpperCase letters"
   ]
  },
  {
   "cell_type": "code",
   "execution_count": 15,
   "id": "232f35f3",
   "metadata": {},
   "outputs": [
    {
     "name": "stdout",
     "output_type": "stream",
     "text": [
      "['MOZZARELLA', 'CINDERELLA', 'SALMONELLA']\n"
     ]
    }
   ],
   "source": [
    "#7.6 Make the cheesy element of things all uppercase and then print the list.\n",
    "\n",
    "things = [\"MOZZARELLA\", \"cinderella\", \"salmonella\"]\n",
    "for i in range(len(things)):\n",
    "    things[i] = things[i].upper()\n",
    "print(things)"
   ]
  },
  {
   "cell_type": "code",
   "execution_count": 18,
   "id": "68c88165",
   "metadata": {},
   "outputs": [
    {
     "name": "stdout",
     "output_type": "stream",
     "text": [
      "['mozzarella', 'cinderella']\n"
     ]
    }
   ],
   "source": [
    "#7.7 Delete the disease element from things, collect your Nobel Prize, \n",
    "#and print the list.\n",
    "\n",
    "things =['mozzarella', 'cinderella', 'salmonella']\n",
    "\n",
    "things.remove('salmonella')\n",
    "print(things)"
   ]
  },
  {
   "cell_type": "code",
   "execution_count": 20,
   "id": "c97c11c3",
   "metadata": {},
   "outputs": [
    {
     "name": "stdout",
     "output_type": "stream",
     "text": [
      "['Harry', 'Ron', 'Hermione']\n"
     ]
    }
   ],
   "source": [
    "#9.1 Define a function called good() that returns the following list: \n",
    "#['Harry', 'Ron', 'Hermione'].\n",
    "\n",
    "def good():\n",
    "    list = ['Harry', 'Ron', 'Hermione']\n",
    "    return list\n",
    "    \n",
    "print(good())"
   ]
  },
  {
   "cell_type": "code",
   "execution_count": 21,
   "id": "c6b48eb2",
   "metadata": {},
   "outputs": [
    {
     "name": "stdout",
     "output_type": "stream",
     "text": [
      "5\n"
     ]
    }
   ],
   "source": [
    "#9.2 Define a generator function called get_odds() that returns the odd numbers \n",
    "#from range(10). Use a for loop to find and print the third value returned.\n",
    "\n",
    "limit = 10\n",
    "get_odds = (num for num in range(limit) if not num % 2 == 0)\n",
    "count = 0\n",
    "for num in get_odds:\n",
    "    if count == 2:\n",
    "        print(num)\n",
    "        break\n",
    "    count += 1"
   ]
  },
  {
   "cell_type": "code",
   "execution_count": null,
   "id": "550afcc4",
   "metadata": {},
   "outputs": [],
   "source": []
  }
 ],
 "metadata": {
  "kernelspec": {
   "display_name": "Python 3 (ipykernel)",
   "language": "python",
   "name": "python3"
  },
  "language_info": {
   "codemirror_mode": {
    "name": "ipython",
    "version": 3
   },
   "file_extension": ".py",
   "mimetype": "text/x-python",
   "name": "python",
   "nbconvert_exporter": "python",
   "pygments_lexer": "ipython3",
   "version": "3.9.7"
  }
 },
 "nbformat": 4,
 "nbformat_minor": 5
}
